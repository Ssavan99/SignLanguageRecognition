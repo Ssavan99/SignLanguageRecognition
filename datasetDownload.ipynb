{
 "cells": [
  {
   "cell_type": "code",
   "execution_count": 1,
   "metadata": {},
   "outputs": [],
   "source": [
    "import os\n",
    "import subprocess"
   ]
  },
  {
   "cell_type": "code",
   "execution_count": 4,
   "metadata": {},
   "outputs": [],
   "source": [
    "def download_kaggle_dataset(dataset_name, output_path):\n",
    "    \"\"\"Downloads a Kaggle dataset.\"\"\"\n",
    "    os.makedirs(output_path, exist_ok=True)\n",
    "    kaggle_path = \"/opt/anaconda3/envs/my-env/bin/kaggle\"  # Replace with your kaggle executable path\n",
    "    command = f\"{kaggle_path} datasets download -d {dataset_name} -p {output_path} --unzip\"\n",
    "    subprocess.run(command, shell=True, check=True)\n",
    "    print(f\"Dataset downloaded to: {output_path}\")"
   ]
  },
  {
   "cell_type": "code",
   "execution_count": 6,
   "metadata": {},
   "outputs": [
    {
     "name": "stdout",
     "output_type": "stream",
     "text": [
      "Dataset URL: https://www.kaggle.com/datasets/grassknoted/asl-alphabet\n",
      "License(s): GPL-2.0\n",
      "Downloading asl-alphabet.zip to ./Datasets/asl-alphabet\n"
     ]
    },
    {
     "name": "stderr",
     "output_type": "stream",
     "text": [
      "100%|█████████▉| 1.02G/1.03G [00:47<00:00, 22.4MB/s]"
     ]
    },
    {
     "name": "stdout",
     "output_type": "stream",
     "text": [
      "\n"
     ]
    },
    {
     "name": "stderr",
     "output_type": "stream",
     "text": [
      "100%|██████████| 1.03G/1.03G [00:48<00:00, 22.9MB/s]\n"
     ]
    },
    {
     "name": "stdout",
     "output_type": "stream",
     "text": [
      "Dataset downloaded to: ./Datasets/asl-alphabet\n"
     ]
    }
   ],
   "source": [
    "dataset_name = \"grassknoted/asl-alphabet\"\n",
    "output_path = \"./Datasets/asl-alphabet\"\n",
    "download_kaggle_dataset(dataset_name, output_path)"
   ]
  },
  {
   "cell_type": "code",
   "execution_count": 8,
   "metadata": {},
   "outputs": [
    {
     "name": "stdout",
     "output_type": "stream",
     "text": [
      "Dataset URL: https://www.kaggle.com/datasets/prathumarikeri/american-sign-language-09az\n",
      "License(s): CC-BY-SA-4.0\n",
      "Downloading american-sign-language-09az.zip to ./Datasets/american-sign-language-09az\n"
     ]
    },
    {
     "name": "stderr",
     "output_type": "stream",
     "text": [
      "100%|██████████| 993M/993M [00:43<00:00, 23.9MB/s] \n"
     ]
    },
    {
     "name": "stdout",
     "output_type": "stream",
     "text": [
      "\n",
      "Dataset downloaded to: ./Datasets/american-sign-language-09az\n"
     ]
    }
   ],
   "source": [
    "dataset_name2 = \"prathumarikeri/american-sign-language-09az\"\n",
    "output_path2 = \"./Datasets/american-sign-language-09az\"\n",
    "download_kaggle_dataset(dataset_name2, output_path2)"
   ]
  },
  {
   "cell_type": "code",
   "execution_count": null,
   "metadata": {},
   "outputs": [],
   "source": []
  }
 ],
 "metadata": {
  "kernelspec": {
   "display_name": "my-env",
   "language": "python",
   "name": "my-env"
  },
  "language_info": {
   "codemirror_mode": {
    "name": "ipython",
    "version": 3
   },
   "file_extension": ".py",
   "mimetype": "text/x-python",
   "name": "python",
   "nbconvert_exporter": "python",
   "pygments_lexer": "ipython3",
   "version": "3.12.2"
  }
 },
 "nbformat": 4,
 "nbformat_minor": 2
}
